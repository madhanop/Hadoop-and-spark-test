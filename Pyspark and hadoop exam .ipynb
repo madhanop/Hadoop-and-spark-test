{
 "cells": [
  {
   "cell_type": "code",
   "execution_count": 1,
   "id": "fd7530f3",
   "metadata": {},
   "outputs": [],
   "source": [
    "import pyspark\n",
    "import pandas as pd\n",
    "import numpy as np\n",
    "from pyspark.sql import SparkSession\n",
    "import six\n",
    "from pyspark.sql.functions import isnan,when,count,col\n",
    "from pyspark.ml.feature import VectorAssembler\n",
    "from pyspark.ml.regression import LinearRegression"
   ]
  },
  {
   "cell_type": "code",
   "execution_count": 2,
   "id": "103c3c1b",
   "metadata": {},
   "outputs": [],
   "source": [
    "Boston = pd.read_csv('C:/Users/senth/Downloads/boston.csv')"
   ]
  },
  {
   "cell_type": "code",
   "execution_count": 3,
   "id": "18b735a0",
   "metadata": {},
   "outputs": [
    {
     "data": {
      "text/html": [
       "<div>\n",
       "<style scoped>\n",
       "    .dataframe tbody tr th:only-of-type {\n",
       "        vertical-align: middle;\n",
       "    }\n",
       "\n",
       "    .dataframe tbody tr th {\n",
       "        vertical-align: top;\n",
       "    }\n",
       "\n",
       "    .dataframe thead th {\n",
       "        text-align: right;\n",
       "    }\n",
       "</style>\n",
       "<table border=\"1\" class=\"dataframe\">\n",
       "  <thead>\n",
       "    <tr style=\"text-align: right;\">\n",
       "      <th></th>\n",
       "      <th>CRIM</th>\n",
       "      <th>ZN</th>\n",
       "      <th>INDUS</th>\n",
       "      <th>CHAS</th>\n",
       "      <th>NOX</th>\n",
       "      <th>RM</th>\n",
       "      <th>AGE</th>\n",
       "      <th>DIS</th>\n",
       "      <th>RAD</th>\n",
       "      <th>TAX</th>\n",
       "      <th>PT</th>\n",
       "      <th>B</th>\n",
       "      <th>LSTAT</th>\n",
       "      <th>MV</th>\n",
       "    </tr>\n",
       "  </thead>\n",
       "  <tbody>\n",
       "    <tr>\n",
       "      <th>0</th>\n",
       "      <td>0.00632</td>\n",
       "      <td>18.0</td>\n",
       "      <td>2.31</td>\n",
       "      <td>0</td>\n",
       "      <td>0.538</td>\n",
       "      <td>6.575</td>\n",
       "      <td>65.199997</td>\n",
       "      <td>4.0900</td>\n",
       "      <td>1</td>\n",
       "      <td>296</td>\n",
       "      <td>15.300000</td>\n",
       "      <td>396.899994</td>\n",
       "      <td>4.98</td>\n",
       "      <td>24.000000</td>\n",
       "    </tr>\n",
       "    <tr>\n",
       "      <th>1</th>\n",
       "      <td>0.02731</td>\n",
       "      <td>0.0</td>\n",
       "      <td>7.07</td>\n",
       "      <td>0</td>\n",
       "      <td>0.469</td>\n",
       "      <td>6.421</td>\n",
       "      <td>78.900002</td>\n",
       "      <td>4.9671</td>\n",
       "      <td>2</td>\n",
       "      <td>242</td>\n",
       "      <td>17.799999</td>\n",
       "      <td>396.899994</td>\n",
       "      <td>9.14</td>\n",
       "      <td>21.600000</td>\n",
       "    </tr>\n",
       "    <tr>\n",
       "      <th>2</th>\n",
       "      <td>0.02729</td>\n",
       "      <td>0.0</td>\n",
       "      <td>7.07</td>\n",
       "      <td>0</td>\n",
       "      <td>0.469</td>\n",
       "      <td>7.185</td>\n",
       "      <td>61.099998</td>\n",
       "      <td>4.9671</td>\n",
       "      <td>2</td>\n",
       "      <td>242</td>\n",
       "      <td>17.799999</td>\n",
       "      <td>392.829987</td>\n",
       "      <td>4.03</td>\n",
       "      <td>34.700001</td>\n",
       "    </tr>\n",
       "    <tr>\n",
       "      <th>3</th>\n",
       "      <td>0.03237</td>\n",
       "      <td>0.0</td>\n",
       "      <td>2.18</td>\n",
       "      <td>0</td>\n",
       "      <td>0.458</td>\n",
       "      <td>6.998</td>\n",
       "      <td>45.799999</td>\n",
       "      <td>6.0622</td>\n",
       "      <td>3</td>\n",
       "      <td>222</td>\n",
       "      <td>18.700001</td>\n",
       "      <td>394.630005</td>\n",
       "      <td>2.94</td>\n",
       "      <td>33.400002</td>\n",
       "    </tr>\n",
       "    <tr>\n",
       "      <th>4</th>\n",
       "      <td>0.06905</td>\n",
       "      <td>0.0</td>\n",
       "      <td>2.18</td>\n",
       "      <td>0</td>\n",
       "      <td>0.458</td>\n",
       "      <td>7.147</td>\n",
       "      <td>54.200001</td>\n",
       "      <td>6.0622</td>\n",
       "      <td>3</td>\n",
       "      <td>222</td>\n",
       "      <td>18.700001</td>\n",
       "      <td>396.899994</td>\n",
       "      <td>5.33</td>\n",
       "      <td>36.200001</td>\n",
       "    </tr>\n",
       "  </tbody>\n",
       "</table>\n",
       "</div>"
      ],
      "text/plain": [
       "      CRIM    ZN  INDUS  CHAS    NOX     RM        AGE     DIS  RAD  TAX  \\\n",
       "0  0.00632  18.0   2.31     0  0.538  6.575  65.199997  4.0900    1  296   \n",
       "1  0.02731   0.0   7.07     0  0.469  6.421  78.900002  4.9671    2  242   \n",
       "2  0.02729   0.0   7.07     0  0.469  7.185  61.099998  4.9671    2  242   \n",
       "3  0.03237   0.0   2.18     0  0.458  6.998  45.799999  6.0622    3  222   \n",
       "4  0.06905   0.0   2.18     0  0.458  7.147  54.200001  6.0622    3  222   \n",
       "\n",
       "          PT           B  LSTAT         MV  \n",
       "0  15.300000  396.899994   4.98  24.000000  \n",
       "1  17.799999  396.899994   9.14  21.600000  \n",
       "2  17.799999  392.829987   4.03  34.700001  \n",
       "3  18.700001  394.630005   2.94  33.400002  \n",
       "4  18.700001  396.899994   5.33  36.200001  "
      ]
     },
     "execution_count": 3,
     "metadata": {},
     "output_type": "execute_result"
    }
   ],
   "source": [
    "Boston.head()"
   ]
  },
  {
   "cell_type": "code",
   "execution_count": 4,
   "id": "5914b09d",
   "metadata": {},
   "outputs": [],
   "source": [
    "spark=SparkSession.builder.appName('Pyspark').getOrCreate()"
   ]
  },
  {
   "cell_type": "code",
   "execution_count": 8,
   "id": "7542cd4b",
   "metadata": {},
   "outputs": [],
   "source": [
    "data_boston=spark.read.csv('C:/Users/senth/Downloads/boston.csv',header=True,inferSchema=True)"
   ]
  },
  {
   "cell_type": "code",
   "execution_count": 9,
   "id": "f734465d",
   "metadata": {},
   "outputs": [
    {
     "name": "stdout",
     "output_type": "stream",
     "text": [
      "+-------+------------------+------------------+------------------+------------------+------------------+------------------+------------------+------------------+-----------------+------------------+-----------------+------------------+------------------+-----------------+\n",
      "|summary|              CRIM|                ZN|             INDUS|              CHAS|               NOX|                RM|               AGE|               DIS|              RAD|               TAX|               PT|                 B|             LSTAT|               MV|\n",
      "+-------+------------------+------------------+------------------+------------------+------------------+------------------+------------------+------------------+-----------------+------------------+-----------------+------------------+------------------+-----------------+\n",
      "|  count|               506|               506|               506|               506|               506|               506|               506|               506|              506|               506|              506|               506|               506|              506|\n",
      "|   mean|3.6135235608162057|11.363636363636363|11.136778749531626|0.0691699604743083|0.5546950602312246|  6.28463438896641| 68.57490120115612|3.7950426960059325|9.549407114624506| 408.2371541501976|18.45553382776679|356.67402960597883|12.653063233922925|22.53280636250988|\n",
      "| stddev| 8.601545086715594| 23.32245299451514|  6.86035298095724|0.2539940413404101|0.1158776754570543|0.7026171549511354|28.148861532793276| 2.105710142043288|8.707259384239366|168.53711605495903|2.164945780039869| 91.29486340272308| 7.141061500195388|9.197104107945272|\n",
      "|    min|           0.00632|               0.0|       0.460000008|                 0|        0.38499999|       3.561000109|       2.900000095|       1.129600048|                1|               187|      12.60000038|       0.319999993|       1.730000019|              5.0|\n",
      "|    max|       88.97619629|             100.0|       27.73999977|                 1|       0.870999992|       8.779999733|             100.0|       12.12650013|               24|               711|             22.0|       396.8999939|       37.97000122|             50.0|\n",
      "+-------+------------------+------------------+------------------+------------------+------------------+------------------+------------------+------------------+-----------------+------------------+-----------------+------------------+------------------+-----------------+\n",
      "\n"
     ]
    }
   ],
   "source": [
    "data_boston.describe().show()"
   ]
  },
  {
   "cell_type": "code",
   "execution_count": 11,
   "id": "ff53d3ba",
   "metadata": {
    "scrolled": true
   },
   "outputs": [
    {
     "name": "stdout",
     "output_type": "stream",
     "text": [
      "+----+---+-----+----+---+---+---+---+---+---+---+---+-----+---+\n",
      "|CRIM| ZN|INDUS|CHAS|NOX| RM|AGE|DIS|RAD|TAX| PT|  B|LSTAT| MV|\n",
      "+----+---+-----+----+---+---+---+---+---+---+---+---+-----+---+\n",
      "|   0|  0|    0|   0|  0|  0|  0|  0|  0|  0|  0|  0|    0|  0|\n",
      "+----+---+-----+----+---+---+---+---+---+---+---+---+-----+---+\n",
      "\n"
     ]
    }
   ],
   "source": [
    "data_boston.select([count(when(isnan(c),c)).alias(c) for c in data_boston.columns]).show()"
   ]
  },
  {
   "cell_type": "code",
   "execution_count": 12,
   "id": "35a9ef33",
   "metadata": {},
   "outputs": [
    {
     "name": "stdout",
     "output_type": "stream",
     "text": [
      "Correlation to MV for  CRIM -0.3883046116575088\n",
      "Correlation to MV for  ZN 0.36044534463752903\n",
      "Correlation to MV for  INDUS -0.48372517128143383\n",
      "Correlation to MV for  CHAS 0.17526017775291847\n",
      "Correlation to MV for  NOX -0.4273207763683772\n",
      "Correlation to MV for  RM 0.695359937127267\n",
      "Correlation to MV for  AGE -0.37695456714288667\n",
      "Correlation to MV for  DIS 0.24992873873512172\n",
      "Correlation to MV for  RAD -0.3816262315669168\n",
      "Correlation to MV for  TAX -0.46853593528654536\n",
      "Correlation to MV for  PT -0.5077867038116085\n",
      "Correlation to MV for  B 0.3334608226834164\n",
      "Correlation to MV for  LSTAT -0.7376627294671615\n",
      "Correlation to MV for  MV 1.0\n"
     ]
    }
   ],
   "source": [
    "for i in data_boston.columns:\n",
    "    if not( isinstance(data_boston.select(i).take(1)[0][0], six.string_types)):\n",
    "        print( \"Correlation to MV for \", i, data_boston.stat.corr('MV',i))"
   ]
  },
  {
   "cell_type": "code",
   "execution_count": 15,
   "id": "23021cd4",
   "metadata": {},
   "outputs": [
    {
     "name": "stdout",
     "output_type": "stream",
     "text": [
      "+--------------------+-----------+\n",
      "|            features|         MV|\n",
      "+--------------------+-----------+\n",
      "|[0.00632,18.0,2.3...|       24.0|\n",
      "|[0.027310001,0.0,...|21.60000038|\n",
      "|[0.02729,0.0,7.07...|34.70000076|\n",
      "|[0.032370001,0.0,...|33.40000153|\n",
      "|[0.069049999,0.0,...|36.20000076|\n",
      "|[0.029850001,0.0,...|28.70000076|\n",
      "|[0.088289998,12.5...|22.89999962|\n",
      "|[0.144549996,12.5...|27.10000038|\n",
      "|[0.211239994,12.5...|       16.5|\n",
      "|[0.170039997,12.5...|18.89999962|\n",
      "|[0.224889994,12.5...|       15.0|\n",
      "|[0.117470004,12.5...|18.89999962|\n",
      "|[0.093780003,12.5...|21.70000076|\n",
      "|[0.629760027,0.0,...|20.39999962|\n",
      "|[0.637960017,0.0,...|18.20000076|\n",
      "|[0.627390027,0.0,...|19.89999962|\n",
      "|[1.053930044,0.0,...|23.10000038|\n",
      "|[0.784200013,0.0,...|       17.5|\n",
      "|[0.802709997,0.0,...|20.20000076|\n",
      "|[0.725799978,0.0,...|18.20000076|\n",
      "+--------------------+-----------+\n",
      "only showing top 20 rows\n",
      "\n"
     ]
    }
   ],
   "source": [
    "vectorAssembler = VectorAssembler(inputCols = ['CRIM', 'ZN', 'INDUS', 'CHAS', 'NOX', 'RM', 'AGE', 'DIS', 'RAD', 'TAX', 'PT', 'B', 'LSTAT'], outputCol = 'features')\n",
    "new_data= vectorAssembler.transform(data_boston)\n",
    "new_data = new_data.select(['features', 'MV'])\n",
    "new_data.show()"
   ]
  },
  {
   "cell_type": "code",
   "execution_count": 16,
   "id": "bfca64ea",
   "metadata": {},
   "outputs": [],
   "source": [
    "splits = new_data.randomSplit([0.7, 0.3])\n",
    "train = splits[0]\n",
    "test = splits[1]"
   ]
  },
  {
   "cell_type": "code",
   "execution_count": 17,
   "id": "627b0fcc",
   "metadata": {},
   "outputs": [
    {
     "name": "stdout",
     "output_type": "stream",
     "text": [
      "Coefficients: [-0.05712813170771199,0.010655609276820237,-0.002701964168698477,0.28502450920695743,-4.637818023638124,4.570782072015724,0.0,-0.5390600322573454,0.0,0.0,-0.8065706096906113,0.005739519020826664,-0.5456855254164695]\n",
      "Intercept: 18.2566974620344\n"
     ]
    }
   ],
   "source": [
    "lr = LinearRegression(featuresCol = 'features', labelCol='MV', maxIter=10, regParam=0.3, elasticNetParam=0.8)\n",
    "lr_model = lr.fit(train)\n",
    "print(\"Coefficients: \" + str(lr_model.coefficients))\n",
    "print(\"Intercept: \" + str(lr_model.intercept))"
   ]
  },
  {
   "cell_type": "code",
   "execution_count": 18,
   "id": "05ee8dd8",
   "metadata": {},
   "outputs": [
    {
     "name": "stdout",
     "output_type": "stream",
     "text": [
      "RMSE: 4.614469\n",
      "r2: 0.734634\n"
     ]
    }
   ],
   "source": [
    "training = lr_model.summary\n",
    "print(\"RMSE: %f\" % training.rootMeanSquaredError)\n",
    "print(\"r2: %f\" % training.r2)"
   ]
  },
  {
   "cell_type": "code",
   "execution_count": null,
   "id": "b3e1cb97",
   "metadata": {},
   "outputs": [],
   "source": []
  }
 ],
 "metadata": {
  "kernelspec": {
   "display_name": "Python 3 (ipykernel)",
   "language": "python",
   "name": "python3"
  },
  "language_info": {
   "codemirror_mode": {
    "name": "ipython",
    "version": 3
   },
   "file_extension": ".py",
   "mimetype": "text/x-python",
   "name": "python",
   "nbconvert_exporter": "python",
   "pygments_lexer": "ipython3",
   "version": "3.9.12"
  }
 },
 "nbformat": 4,
 "nbformat_minor": 5
}
